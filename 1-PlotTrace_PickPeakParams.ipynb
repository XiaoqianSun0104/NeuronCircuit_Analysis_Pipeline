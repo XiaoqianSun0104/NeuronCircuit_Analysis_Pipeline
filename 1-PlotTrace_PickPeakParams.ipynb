{
 "cells": [
  {
   "cell_type": "code",
   "execution_count": 10,
   "metadata": {},
   "outputs": [],
   "source": [
    "import os\n",
    "import glob\n",
    "import itertools\n",
    "import numpy as np\n",
    "import pandas as pd\n",
    "\n",
    "import matplotlib.pyplot as plt\n",
    "from scipy.stats import pearsonr\n",
    "from scipy.signal import chirp, find_peaks, peak_widths\n",
    "\n",
    "import warnings\n",
    "warnings.filterwarnings(\"ignore\")"
   ]
  },
  {
   "cell_type": "code",
   "execution_count": 14,
   "metadata": {},
   "outputs": [],
   "source": [
    "def plotPeaks(df):\n",
    "    \n",
    "    # caculate event rate\n",
    "    Frames, n_neuron = df.shape\n",
    "    # get array\n",
    "    df_array = df.to_numpy()\n",
    "    \n",
    "    for i in range(n_neuron):\n",
    "\n",
    "        Array = df_array[:,i]\n",
    "        # peak location index\n",
    "        peaks, _ = find_peaks(Array, prominence=3, width=2)\n",
    "        # plot\n",
    "        plt.figure(figsize=(100,6))\n",
    "        plt.plot(Array, color='black')\n",
    "        plt.plot(peaks, np.array(Array)[peaks], \"X\", markersize=14, label = 'peak')\n",
    "\n",
    "        plt.savefig(os.path.join(root_path,'TracePeaks','neuron_'+str(i)+'peaks_'+str(len(peaks))))\n",
    "        plt.close()\n",
    "        \n",
    "    "
   ]
  },
  {
   "cell_type": "code",
   "execution_count": 15,
   "metadata": {},
   "outputs": [],
   "source": [
    "# prep info\n",
    "# contact: c\n",
    "# status inlcude: r, s, a\n",
    "\n",
    "root_path = r'/Users/xiaoqiansun/Desktop/MedLu/TubeTest/Data'\n",
    "\n",
    "\n",
    "days = 6\n",
    "fpsN = 15\n",
    "fpsB = 30\n",
    "baselinePeriod = 180 #(3min(180s) baseline)\n",
    "redundentTime = 190 #10s+3min\n",
    "\n",
    "\n",
    "M32_list = ['32-1_28', '32-2_18', '32-3_15', '32-4_20', '32-5_12', '32-6_15']\n",
    "M33_list = ['33-1_28', '33-2_35', '33-3_32', '33-4_30', '33-5_30', '33-6_26']\n",
    "\n"
   ]
  },
  {
   "cell_type": "code",
   "execution_count": 16,
   "metadata": {
    "scrolled": true
   },
   "outputs": [],
   "source": [
    "for day in range(days):\n",
    "    \n",
    "    m32_folder = os.path.join(root_path, M32_list[day])\n",
    "    m33_folder = os.path.join(root_path, M33_list[day])\n",
    "    \n",
    "    \n",
    "    m32_base = pd.read_csv(os.path.join(m32_folder,'m32_base.csv'), index_col = 'Frame')\n",
    "    m32_tube = pd.read_csv(os.path.join(m32_folder,'m32_tube.csv'), index_col = 'Frame').drop(['mouse1', 'mouse2', 'contact'], axis=1)\n",
    "    m33_base = pd.read_csv(os.path.join(m33_folder,'m33_base.csv'), index_col = 'Frame')\n",
    "    m33_tube = pd.read_csv(os.path.join(m33_folder,'m33_tube.csv'), index_col = 'Frame').drop(['mouse1', 'mouse2', 'contact'], axis=1)     \n",
    "        \n",
    "        \n",
    "    plotPeaks(m32_tube)\n",
    "    plotPeaks(m33_tube)\n",
    "        \n",
    "    break"
   ]
  },
  {
   "cell_type": "code",
   "execution_count": null,
   "metadata": {},
   "outputs": [],
   "source": []
  },
  {
   "cell_type": "code",
   "execution_count": null,
   "metadata": {},
   "outputs": [],
   "source": []
  }
 ],
 "metadata": {
  "kernelspec": {
   "display_name": "Python 3 (ipykernel)",
   "language": "python",
   "name": "python3"
  },
  "language_info": {
   "codemirror_mode": {
    "name": "ipython",
    "version": 3
   },
   "file_extension": ".py",
   "mimetype": "text/x-python",
   "name": "python",
   "nbconvert_exporter": "python",
   "pygments_lexer": "ipython3",
   "version": "3.8.8"
  }
 },
 "nbformat": 4,
 "nbformat_minor": 2
}

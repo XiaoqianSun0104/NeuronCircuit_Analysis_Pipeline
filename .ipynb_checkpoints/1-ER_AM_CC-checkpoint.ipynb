{
 "cells": [
  {
   "cell_type": "code",
   "execution_count": 2,
   "id": "8e1c0a83",
   "metadata": {},
   "outputs": [],
   "source": [
    "import os\n",
    "import sys\n",
    "import numpy as np\n",
    "import pandas as pd\n",
    "import seaborn as sns\n",
    "from scipy.stats import pearsonr\n",
    "from scipy.signal import chirp, find_peaks, peak_widths\n",
    "\n",
    "import warnings\n",
    "warnings.filterwarnings('ignore')"
   ]
  },
  {
   "cell_type": "code",
   "execution_count": 3,
   "id": "cb453bde",
   "metadata": {},
   "outputs": [],
   "source": [
    "# prep info\n",
    "# contact: c\n",
    "# status inlcude: r, s, a\n",
    "\n",
    "root_path = r'/Users/xiaoqiansun/Desktop/MedLu/TubeTest/Data'\n",
    "\n",
    "\n",
    "days = 6\n",
    "fpsN = 15\n",
    "fpsB = 30\n",
    "baselinePeriod = 180 #(3min(180s) baseline)\n",
    "redundentTime = 190 #10s+3min\n",
    "\n",
    "\n",
    "M32_list = ['32-1_28', '32-2_18', '32-3_15', '32-4_20', '32-5_12', '32-6_15']\n",
    "M33_list = ['33-1_28', '33-2_35', '33-3_32', '33-4_30', '33-5_30', '33-6_26']\n",
    "\n"
   ]
  },
  {
   "cell_type": "markdown",
   "id": "fa9b1e1a",
   "metadata": {},
   "source": [
    "# Define functions"
   ]
  },
  {
   "cell_type": "code",
   "execution_count": 38,
   "id": "fcaa2120",
   "metadata": {},
   "outputs": [],
   "source": [
    "# to keep certain status frrame interval\n",
    "#----------------------------------------------------------------------------------\n",
    "def pick_BInterval(m1_tube, m2_tube, s1, s2, c=None):      \n",
    "      \n",
    "    df1 = m1_tube.copy()\n",
    "    df2 = m2_tube.copy()\n",
    "    \n",
    "    if c:\n",
    "        df1 = df1[(df1['mouse1']== s1) & (df1['mouse2']== s2) & (df1['contact']== c)]\n",
    "        df2 = df2[(df2['mouse1']== s1) & (df2['mouse2']== s2) & (df2['contact']== c)]\n",
    "    \n",
    "    else:\n",
    "        df1 = df1[(df1['mouse1']== s1) & (df1['mouse2']== s2)]\n",
    "        df2 = df2[(df2['mouse1']== s1) & (df2['mouse2']== s2)]\n",
    "    \n",
    "        \n",
    "    df1 = df1.drop(['mouse1', 'mouse2', 'contact'], axis=1)\n",
    "    df2 = df2.drop(['mouse1', 'mouse2', 'contact'], axis=1)\n",
    "    \n",
    "    return(df1, df2)"
   ]
  },
  {
   "cell_type": "code",
   "execution_count": 39,
   "id": "be5d6d8e",
   "metadata": {},
   "outputs": [],
   "source": [
    "# calculate event rate&amplitude\n",
    "#----------------------------------------------------------------------------------\n",
    "def event_rate(df, fps):\n",
    "        \n",
    "    # caculate event rate\n",
    "    Frames, n_neuron = df.shape\n",
    "    # get array\n",
    "    df_array = df.to_numpy()\n",
    "    \n",
    "    peak_sum = 0\n",
    "    amplitude_mean_list = []\n",
    "    amplitude_mean_list_wit_zero = []\n",
    "    \n",
    "    for i in range(n_neuron):\n",
    "        peaks, _ = find_peaks(df_array[:,i],  prominence=5, width=2) #prominence=5, that's the standard\n",
    "        peak_sum = peak_sum + len(peaks)\n",
    "        \n",
    "        if len(peaks) != 0:\n",
    "            amplitude_mean = sum(df_array[:,i][peaks])/len(peaks)\n",
    "            amplitude_mean_list.append(amplitude_mean)\n",
    "            amplitude_mean_list_wit_zero.append(amplitude_mean)\n",
    "        else:\n",
    "            amplitude_mean_list_wit_zero.append(0)\n",
    "\n",
    "    # event_rate: # of peaks per second per neuron\n",
    "    if Frames != 0 and n_neuron != 0:\n",
    "        event_rate = peak_sum/(Frames/fps)/n_neuron\n",
    "    else:\n",
    "        event_rate = np.nan\n",
    "        \n",
    "    # calculate amplitude mean for all neruons\n",
    "    amplitude = np.mean(amplitude_mean_list)\n",
    "    amplitude_00 = np.mean(amplitude_mean_list_wit_zero)\n",
    "    \n",
    "    #print('total peaks %i'%peak_sum)\n",
    "    return(event_rate, amplitude, amplitude_00)\n",
    "\n",
    "\n",
    "\n",
    "#function to get corr between each two cell of a dataframe\n",
    "#----------------------------------------------------------------------------------\n",
    "\n",
    "def corr_list(df):\n",
    "    end_range = df.shape[1]\n",
    "    corr_list = []\n",
    "    \n",
    "    if df.shape[0] >2:\n",
    "        for i in range(end_range):\n",
    "            a = i+1\n",
    "            for a in range(a,end_range):\n",
    "                corr, _ = pearsonr(df.iloc[:,i], df.iloc[:,a])\n",
    "                corr_list.append(corr)\n",
    "    return(corr_list)"
   ]
  },
  {
   "cell_type": "code",
   "execution_count": null,
   "id": "5e2dbb05",
   "metadata": {},
   "outputs": [],
   "source": []
  },
  {
   "cell_type": "code",
   "execution_count": null,
   "id": "2241f6d7",
   "metadata": {},
   "outputs": [],
   "source": []
  },
  {
   "cell_type": "markdown",
   "id": "52ab557c",
   "metadata": {},
   "source": [
    "# Call"
   ]
  },
  {
   "cell_type": "code",
   "execution_count": 40,
   "id": "3750f5b9",
   "metadata": {},
   "outputs": [],
   "source": [
    "for day in range(days):\n",
    "    \n",
    "    m32_folder = os.path.join(root_path, M32_list[day])\n",
    "    m33_folder = os.path.join(root_path, M33_list[day])\n",
    "    \n",
    "    \n",
    "    m32_base = pd.read_csv(os.path.join(m32_folder,'m32_base.csv'), index_col = 'Frame')\n",
    "    m32_tube = pd.read_csv(os.path.join(m32_folder,'m32_tube.csv'), index_col = 'Frame')\n",
    "    m33_base = pd.read_csv(os.path.join(m33_folder,'m33_base.csv'), index_col = 'Frame')\n",
    "    m33_tube = pd.read_csv(os.path.join(m33_folder,'m33_tube.csv'), index_col = 'Frame')     \n",
    "    \n",
    "    \n",
    "    as1, as2 = pick_BInterval(m32_tube, m33_tube, 'a', 's', c=None)\n",
    "    sa1, sa2 = pick_BInterval(m32_tube, m33_tube, 's', 'a', c=None)\n",
    "    rs1, rs2 = pick_BInterval(m32_tube, m33_tube, 'r', 's', c=None)\n",
    "    sr1, sr2 = pick_BInterval(m32_tube, m33_tube, 's', 'r', c=None)\n",
    "    ar1, ar2 = pick_BInterval(m32_tube, m33_tube, 'a', 'r', c=None)\n",
    "    ra1, ra2 = pick_BInterval(m32_tube, m33_tube, 'r', 'a', c=None)\n",
    "    \n",
    "    ss1, ss2 = pick_BInterval(m32_tube, m33_tube, 's', 's', c=np.nan)\n",
    "    ssc1, ssc2 = pick_BInterval(m32_tube, m33_tube, 's', 's', c='c')\n",
    "    \n",
    "    break"
   ]
  },
  {
   "cell_type": "code",
   "execution_count": null,
   "id": "cf394327",
   "metadata": {},
   "outputs": [],
   "source": []
  },
  {
   "cell_type": "code",
   "execution_count": null,
   "id": "205d0b18",
   "metadata": {},
   "outputs": [],
   "source": []
  },
  {
   "cell_type": "code",
   "execution_count": null,
   "id": "f4e5343c",
   "metadata": {},
   "outputs": [],
   "source": []
  },
  {
   "cell_type": "code",
   "execution_count": null,
   "id": "dfd2b358",
   "metadata": {},
   "outputs": [],
   "source": []
  },
  {
   "cell_type": "code",
   "execution_count": null,
   "id": "aca99a20",
   "metadata": {},
   "outputs": [],
   "source": []
  },
  {
   "cell_type": "code",
   "execution_count": null,
   "id": "e4796b52",
   "metadata": {},
   "outputs": [],
   "source": []
  },
  {
   "cell_type": "code",
   "execution_count": null,
   "id": "182859ef",
   "metadata": {},
   "outputs": [],
   "source": []
  },
  {
   "cell_type": "code",
   "execution_count": null,
   "id": "da2f1bbe",
   "metadata": {},
   "outputs": [],
   "source": []
  }
 ],
 "metadata": {
  "kernelspec": {
   "display_name": "Python 3 (ipykernel)",
   "language": "python",
   "name": "python3"
  },
  "language_info": {
   "codemirror_mode": {
    "name": "ipython",
    "version": 3
   },
   "file_extension": ".py",
   "mimetype": "text/x-python",
   "name": "python",
   "nbconvert_exporter": "python",
   "pygments_lexer": "ipython3",
   "version": "3.8.8"
  }
 },
 "nbformat": 4,
 "nbformat_minor": 5
}

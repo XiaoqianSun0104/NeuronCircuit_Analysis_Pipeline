{
 "cells": [
  {
   "cell_type": "code",
   "execution_count": 1,
   "metadata": {},
   "outputs": [],
   "source": [
    "import os\n",
    "import numpy as np\n",
    "import pandas as pd\n",
    "import matplotlib.pyplot as plt\n",
    "\n",
    "\n",
    "import warnings\n",
    "warnings.filterwarnings(\"ignore\")"
   ]
  },
  {
   "cell_type": "code",
   "execution_count": 3,
   "metadata": {},
   "outputs": [],
   "source": [
    "# prep info\n",
    "# contact: c\n",
    "# status inlcude: r, s, a\n",
    "\n",
    "root_path = r'/Users/xiaoqiansun/Desktop/MedLu/TubeTest/Data'\n",
    "fig_path = r'/Users/xiaoqiansun/Desktop/MedLu/TubeTest/Trace'\n",
    "\n",
    "\n",
    "days = 6\n",
    "fpsN = 15\n",
    "fpsB = 30\n",
    "baselinePeriod = 180 #(3min(180s) baseline)\n",
    "redundentTime = 190 #10s+3min\n",
    "\n",
    "\n",
    "M32_list = ['32-1_28', '32-2_18', '32-3_15', '32-4_20', '32-5_12', '32-6_15']\n",
    "M33_list = ['33-1_28', '33-2_35', '33-3_32', '33-4_30', '33-5_30', '33-6_26']\n",
    "\n"
   ]
  },
  {
   "cell_type": "markdown",
   "metadata": {},
   "source": [
    "# Define Some Functions"
   ]
  },
  {
   "cell_type": "code",
   "execution_count": 4,
   "metadata": {},
   "outputs": [],
   "source": [
    "def plot_allNeuronTrace_withColoredBehavior(df,folderPath,which_mouse,mouse_name,fig_path,decovolute=False):\n",
    "\n",
    "    df1 = df.copy().dropna().reset_index(drop=True)\n",
    "    \n",
    "    dfs = df1[df1[which_mouse]== 's']\n",
    "    dfr = df1[df1[which_mouse]== 'r']\n",
    "    dfa = df1[df1[which_mouse]== 'a']\n",
    "    dfc = df1[df1['contact']== 'c']\n",
    "    \n",
    "    \n",
    "    x = df1.index.values.tolist()\n",
    "    xs = dfs.index.values.tolist()\n",
    "    xr = dfr.index.values.tolist()\n",
    "    xa = dfa.index.values.tolist()\n",
    "    xc = dfc.index.values.tolist()\n",
    "\n",
    "    \n",
    "    all_neurons = df1.drop(['mouse1', 'mouse2', 'contact'], axis=1).columns.tolist()\n",
    "    # read in ON/OFF summary dataframe\n",
    "    file_name = 'ONOFF.csv'\n",
    "    on_off_df = pd.read_csv(os.path.join(folderPath, 'ONOFF.csv'))\n",
    "    columns = on_off_df.columns.to_list()\n",
    "    columns[0] = 'Neurons'\n",
    "    on_off_df.columns = columns\n",
    "    on_off_df = on_off_df.set_index('Neurons')\n",
    "    aON = on_off_df[on_off_df['approachON'] == 1].index.to_list()\n",
    "    rON = on_off_df[on_off_df['retreatON'] == 1].index.to_list()\n",
    "        \n",
    "        \n",
    "    fig, ax = plt.subplots(len(all_neurons),1, figsize=(40,3*len(all_neurons)),facecolor='w', edgecolor='k')\n",
    "\n",
    "    for i in range(len(all_neurons)):\n",
    "        neuronName = all_neurons[i]\n",
    "\n",
    "        y = df_frame_label.iloc[:,i].values.tolist()\n",
    "        if decovolute:\n",
    "            c, s, b, g, lam = deconvolve(np.asarray(y), penalty=1)\n",
    "            y=b+c\n",
    "\n",
    "        ax[i].plot(x, y, lw=4, color = 'black')\n",
    "\n",
    "        for xcs in xs:\n",
    "            ax[i].axvline(x=xcs, color='#4f4f4f', alpha=0.2) #grey, still\n",
    "        for xcr in xr:\n",
    "            ax[i].axvline(x=xcr, color='#7c83ff', alpha=0.2) # blue, retreat\n",
    "        for xca in xa:\n",
    "            ax[i].axvline(x=xca, color='#FF7C80', alpha=0.2) # pink, approach\n",
    "        for xcc in xc:\n",
    "            ax[i].axvline(x=xcc, color='#f8ff7c', alpha=0.2) # yellow, concat\n",
    "\n",
    "        if neuronName in aON:\n",
    "            ax[i].set_title(neuronName+\" approach ON\", fontsize=28, fontweight='bold')\n",
    "        elif neuronName in rON:\n",
    "            ax[i].set_title(neuronName+\" retreat ON\", fontsize=28, fontweight='bold')\n",
    "        else:\n",
    "            ax[i].set_title(neuronName, fontsize=28, fontweight='bold')\n",
    "\n",
    "        ax[i].spines['right'].set_visible(False)\n",
    "        ax[i].spines['top'].set_visible(False)\n",
    "        ax[i].spines['bottom'].set_visible(False)\n",
    "        ax[i].spines['left'].set_visible(False)\n",
    "        ax[i].axes.get_xaxis().set_visible(False)\n",
    "        ax[i].axes.get_yaxis().set_visible(False)\n",
    "\n",
    "    \n",
    "    fig.savefig(os.path.join(fig_path, mouse_name+'_allNeuronTrace.png'))\n",
    "    \n",
    "    plt.close()"
   ]
  },
  {
   "cell_type": "markdown",
   "metadata": {},
   "source": [
    "# Call"
   ]
  },
  {
   "cell_type": "code",
   "execution_count": null,
   "metadata": {
    "scrolled": true
   },
   "outputs": [
    {
     "name": "stdout",
     "output_type": "stream",
     "text": [
      "Whole\n",
      "processing  NC632\n",
      "processing  NC655\n",
      "processing  NC660\n",
      "processing  NC665\n",
      "processing  NC840\n",
      "processing  NC841\n",
      "processing  NC870\n",
      "processing  NC922\n",
      "processing  NC924\n",
      "processing  NC925\n",
      "processing  NC995\n"
     ]
    }
   ],
   "source": [
    "for day in range(days):\n",
    "    \n",
    "    # read in dataframe\n",
    "    m32_folder = os.path.join(root_path, M32_list[day])\n",
    "    m33_folder = os.path.join(root_path, M33_list[day])\n",
    "    \n",
    "    \n",
    "    m32_tube = pd.read_csv(os.path.join(m32_folder,'m32_tube.csv'), index_col = 'Frame')\n",
    "    m33_tube = pd.read_csv(os.path.join(m33_folder,'m33_tube.csv'), index_col = 'Frame')    \n",
    "    \n",
    "    # plot neuron trace\n",
    "    #----------------------------------------------------------------------------------\n",
    "    plot_allNeuronTrace_withColoredBehavior(m32_tube,m32_folder,'mouse1',\n",
    "                                            'mouse32_'+str(day+1),fig_pathdecovolute=False)\n",
    "    plot_allNeuronTrace_withColoredBehavior(m33_tube,m33_folder,'mouse2',\n",
    "                                            'mouse33_'+str(day+1),fig_pathdecovolute=False)\n",
    "\n",
    "\n",
    "    break"
   ]
  },
  {
   "cell_type": "code",
   "execution_count": null,
   "metadata": {},
   "outputs": [],
   "source": []
  },
  {
   "cell_type": "code",
   "execution_count": null,
   "metadata": {},
   "outputs": [],
   "source": []
  }
 ],
 "metadata": {
  "kernelspec": {
   "display_name": "Python 3 (ipykernel)",
   "language": "python",
   "name": "python3"
  },
  "language_info": {
   "codemirror_mode": {
    "name": "ipython",
    "version": 3
   },
   "file_extension": ".py",
   "mimetype": "text/x-python",
   "name": "python",
   "nbconvert_exporter": "python",
   "pygments_lexer": "ipython3",
   "version": "3.8.8"
  }
 },
 "nbformat": 4,
 "nbformat_minor": 2
}
